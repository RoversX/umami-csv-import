{
 "cells": [
  {
   "cell_type": "code",
   "execution_count": 3,
   "metadata": {},
   "outputs": [
    {
     "name": "stdout",
     "output_type": "stream",
     "text": [
      "Requirement already satisfied: pandas in /Users/roversx/Documents/WorkSpace/Python/explore/.venv/lib/python3.12/site-packages (2.2.1)\n",
      "Requirement already satisfied: numpy<2,>=1.26.0 in /Users/roversx/Documents/WorkSpace/Python/explore/.venv/lib/python3.12/site-packages (from pandas) (1.26.4)\n",
      "Requirement already satisfied: python-dateutil>=2.8.2 in /Users/roversx/Documents/WorkSpace/Python/explore/.venv/lib/python3.12/site-packages (from pandas) (2.8.2)\n",
      "Requirement already satisfied: pytz>=2020.1 in /Users/roversx/Documents/WorkSpace/Python/explore/.venv/lib/python3.12/site-packages (from pandas) (2024.1)\n",
      "Requirement already satisfied: tzdata>=2022.7 in /Users/roversx/Documents/WorkSpace/Python/explore/.venv/lib/python3.12/site-packages (from pandas) (2024.1)\n",
      "Requirement already satisfied: six>=1.5 in /Users/roversx/Documents/WorkSpace/Python/explore/.venv/lib/python3.12/site-packages (from python-dateutil>=2.8.2->pandas) (1.16.0)\n"
     ]
    }
   ],
   "source": [
    "!pip install pandas"
   ]
  },
  {
   "cell_type": "code",
   "execution_count": 4,
   "metadata": {},
   "outputs": [
    {
     "name": "stdout",
     "output_type": "stream",
     "text": [
      "Successfully generated website_event.csv and session.csv\n"
     ]
    }
   ],
   "source": [
    "import pandas as pd\n",
    "\n",
    "# User enter filename and new website id\n",
    "original_csv_file = input(\"Please enter the filename of the original CSV file path: \")\n",
    "new_website_id = input(\"Please enter the new website ID: \")\n",
    "\n",
    "# Load the original CSV file\n",
    "df = pd.read_csv(original_csv_file)\n",
    "\n",
    "# Update the website_id column with the user-provided website ID\n",
    "df['website_id'] = new_website_id\n",
    "\n",
    "# Define the columns required for the website_event table\n",
    "website_event_columns = [\n",
    "    'event_id', 'website_id', 'session_id', 'created_at', 'url_path',\n",
    "    'url_query', 'referrer_path', 'referrer_query', 'referrer_domain',\n",
    "    'page_title', 'event_type', 'event_name', 'visit_id'\n",
    "]\n",
    "\n",
    "# Create a new DataFrame for the website_event data with the required columns\n",
    "df_website_event = df[website_event_columns]\n",
    "\n",
    "# Save the new website_event data to a CSV file\n",
    "df_website_event.to_csv('website_event.csv', index=False)\n",
    "\n",
    "# Define the columns required for the session table\n",
    "session_columns = [\n",
    "    'session_id', 'website_id', 'hostname', 'browser', 'os', 'device',\n",
    "    'screen', 'language', 'country', 'subdivision1', 'subdivision2',\n",
    "    'city', 'created_at'\n",
    "]\n",
    "\n",
    "# Create a new DataFrame for the session data with the required columns\n",
    "df_session = df[session_columns]\n",
    "\n",
    "# Save the new session data to a CSV file\n",
    "df_session.to_csv('session.csv', index=False)\n",
    "\n",
    "print(\"Successfully generated website_event.csv and session.csv\")"
   ]
  }
 ],
 "metadata": {
  "kernelspec": {
   "display_name": ".venv",
   "language": "python",
   "name": "python3"
  },
  "language_info": {
   "codemirror_mode": {
    "name": "ipython",
    "version": 3
   },
   "file_extension": ".py",
   "mimetype": "text/x-python",
   "name": "python",
   "nbconvert_exporter": "python",
   "pygments_lexer": "ipython3",
   "version": "3.12.3"
  }
 },
 "nbformat": 4,
 "nbformat_minor": 2
}
